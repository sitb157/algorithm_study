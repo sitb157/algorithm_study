{
 "cells": [
  {
   "cell_type": "code",
   "execution_count": 3,
   "id": "08fb76ac",
   "metadata": {},
   "outputs": [
    {
     "name": "stdout",
     "output_type": "stream",
     "text": [
      "2\n"
     ]
    }
   ],
   "source": [
    "n_list = [-15, -4, 3, 8, 9, 13, 15]\n",
    "n = len(n_list)\n",
    "if __name__ == '__main__':\n",
    "    start = 0\n",
    "    end = n\n",
    "    while (end-start) > 1:\n",
    "        mid = (end + start) // 2\n",
    "        if n_list[mid] == mid:\n",
    "            print(mid)\n",
    "            break\n",
    "        elif mid > n_list[mid]:\n",
    "            end = end\n",
    "            start = mid\n",
    "        else:\n",
    "            start = start\n",
    "            end = mid\n",
    "    "
   ]
  },
  {
   "cell_type": "code",
   "execution_count": null,
   "id": "93abf508",
   "metadata": {},
   "outputs": [],
   "source": []
  }
 ],
 "metadata": {
  "kernelspec": {
   "display_name": "Python 3 (ipykernel)",
   "language": "python",
   "name": "python3"
  },
  "language_info": {
   "codemirror_mode": {
    "name": "ipython",
    "version": 3
   },
   "file_extension": ".py",
   "mimetype": "text/x-python",
   "name": "python",
   "nbconvert_exporter": "python",
   "pygments_lexer": "ipython3",
   "version": "3.8.10"
  }
 },
 "nbformat": 4,
 "nbformat_minor": 5
}
