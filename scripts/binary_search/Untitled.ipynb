{
 "cells": [
  {
   "cell_type": "code",
   "execution_count": 16,
   "id": "2028e137",
   "metadata": {},
   "outputs": [
    {
     "name": "stdout",
     "output_type": "stream",
     "text": [
      "[1, 3, 4, 5, 8, 12]\n",
      "[1, 6] 0\n",
      "[1, 3] 0\n",
      "[2, 3] 2\n"
     ]
    }
   ],
   "source": [
    "n, c = 5, 5\n",
    "n_list = [1, 3, 8, 4, 5, 12]\n",
    "def install_wifi(gap, n_list, c):\n",
    "    pre_installed = n_list[0]\n",
    "    installed_num = 1\n",
    "    for n_idx in range(1, len(n_list)):\n",
    "        if (n_list[n_idx] - pre_installed) >= gap:\n",
    "            installed_num += 1\n",
    "            pre_installed = n_list[n_idx]\n",
    "        if installed_num >= c:\n",
    "            return True\n",
    "    return False\n",
    "if __name__ == '__main__':\n",
    "    n_list.sort()\n",
    "    print(n_list)\n",
    "    gap_list = [n_list[0], n_list[-1]]\n",
    "    max_gap = 0\n",
    "    while (gap_list[1] - gap_list[0]) > 1:\n",
    "        gap = (gap_list[1] + gap_list[0]) // 2\n",
    "        if install_wifi(gap, n_list, c):\n",
    "            gap_list[1] = gap_list[1]\n",
    "            gap_list[0] = gap\n",
    "            if max_gap < gap:\n",
    "                max_gap = gap\n",
    "        else:\n",
    "            gap_list[1] = gap\n",
    "            gap_list[0] = gap_list[0]\n",
    "        print(gap_list, max_gap)"
   ]
  },
  {
   "cell_type": "code",
   "execution_count": null,
   "id": "01590220",
   "metadata": {},
   "outputs": [],
   "source": []
  }
 ],
 "metadata": {
  "kernelspec": {
   "display_name": "Python 3 (ipykernel)",
   "language": "python",
   "name": "python3"
  },
  "language_info": {
   "codemirror_mode": {
    "name": "ipython",
    "version": 3
   },
   "file_extension": ".py",
   "mimetype": "text/x-python",
   "name": "python",
   "nbconvert_exporter": "python",
   "pygments_lexer": "ipython3",
   "version": "3.8.10"
  }
 },
 "nbformat": 4,
 "nbformat_minor": 5
}
