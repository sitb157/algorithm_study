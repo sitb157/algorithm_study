{
 "cells": [
  {
   "cell_type": "code",
   "execution_count": 17,
   "id": "20c5bfd9",
   "metadata": {},
   "outputs": [
    {
     "name": "stdout",
     "output_type": "stream",
     "text": [
      "[1, 1, 2]\n",
      "[1, 0, 2]\n",
      "[3, 3, 0]\n",
      "0\n"
     ]
    }
   ],
   "source": [
    "n, k = 3, 3\n",
    "data = [\n",
    "    [1, 0, 2],\n",
    "    [0, 0, 0],\n",
    "    [3, 0, 0]\n",
    "]\n",
    "s, x, y = 1, 2, 2\n",
    "move_list = [[-1, 0], [1, 0], [0, -1], [0, 1]]\n",
    "visited = [[0 for _ in range(n)] for _ in range(n)] \n",
    "if __name__ == '__main__':\n",
    "    init_data = []\n",
    "    for i in range(n):\n",
    "        for j in range(n):\n",
    "            d = data[i][j]\n",
    "            if d > 0:\n",
    "                init_data.append([d, i, j])\n",
    "                visited[i][j] = d\n",
    "    init_data.sort()\n",
    "    from collections import deque\n",
    "    heap = deque()\n",
    "    for i_d in init_data:\n",
    "        heap.append(i_d)\n",
    "    p_n = 0\n",
    "    c_s = 1\n",
    "    while heap:\n",
    "        v_n, v_x, v_y = heap.popleft()\n",
    "        if v_n == init_data[0][0] and p_n == init_data[-1][0]:\n",
    "            if c_s == s:\n",
    "                break\n",
    "            else:\n",
    "                for vs in visited:\n",
    "                    print(vs)\n",
    "                c_s += 1\n",
    "        p_n = v_n\n",
    "        for move in move_list:\n",
    "            v_f_x = v_x + move[0]\n",
    "            v_f_y = v_y + move[1]\n",
    "            if v_f_x >= 0 and v_f_x < n \\\n",
    "                and v_f_y >= 0 and v_f_y < n \\\n",
    "                and not visited[v_f_x][v_f_y]:\n",
    "                heap.append([v_n, v_f_x, v_f_y])\n",
    "                visited[v_f_x][v_f_y] = v_n\n",
    "    for vs in visited:\n",
    "        print(vs)\n",
    "    print(visited[x-1][y-1])\n",
    "            "
   ]
  },
  {
   "cell_type": "code",
   "execution_count": null,
   "id": "382b0c76",
   "metadata": {},
   "outputs": [],
   "source": []
  },
  {
   "cell_type": "code",
   "execution_count": null,
   "id": "0e75ebdf",
   "metadata": {},
   "outputs": [],
   "source": []
  }
 ],
 "metadata": {
  "kernelspec": {
   "display_name": "Python 3 (ipykernel)",
   "language": "python",
   "name": "python3"
  },
  "language_info": {
   "codemirror_mode": {
    "name": "ipython",
    "version": 3
   },
   "file_extension": ".py",
   "mimetype": "text/x-python",
   "name": "python",
   "nbconvert_exporter": "python",
   "pygments_lexer": "ipython3",
   "version": "3.8.10"
  }
 },
 "nbformat": 4,
 "nbformat_minor": 5
}
