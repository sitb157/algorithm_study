{
 "cells": [
  {
   "cell_type": "code",
   "execution_count": 4,
   "id": "fdf1c540",
   "metadata": {},
   "outputs": [
    {
     "name": "stdout",
     "output_type": "stream",
     "text": [
      "[5, 30, 210]\n"
     ]
    }
   ],
   "source": [
    "num_list = [5, 6, 7]\n",
    "max_list = [0 for _ in range(len(num_list))]\n",
    "if __name__ == '__main__':\n",
    "    max_list[0] = num_list[0]\n",
    "    for i in range(1, len(num_list)):\n",
    "        add_result = max_list[i-1] + num_list[i]\n",
    "        mul_result = max_list[i-1] * num_list[i]\n",
    "        max_list[i] = max(add_result, mul_result)\n",
    "    print(max_list)\n",
    "    "
   ]
  },
  {
   "cell_type": "code",
   "execution_count": null,
   "id": "c98a1a35",
   "metadata": {},
   "outputs": [],
   "source": []
  }
 ],
 "metadata": {
  "kernelspec": {
   "display_name": "Python 3 (ipykernel)",
   "language": "python",
   "name": "python3"
  },
  "language_info": {
   "codemirror_mode": {
    "name": "ipython",
    "version": 3
   },
   "file_extension": ".py",
   "mimetype": "text/x-python",
   "name": "python",
   "nbconvert_exporter": "python",
   "pygments_lexer": "ipython3",
   "version": "3.8.10"
  }
 },
 "nbformat": 4,
 "nbformat_minor": 5
}
