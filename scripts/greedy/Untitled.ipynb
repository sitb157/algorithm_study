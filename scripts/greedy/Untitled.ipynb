{
 "cells": [
  {
   "cell_type": "code",
   "execution_count": 10,
   "id": "3d2355fd",
   "metadata": {},
   "outputs": [
    {
     "name": "stdout",
     "output_type": "stream",
     "text": [
      "['1', '0', '0', '1', '0', '1']\n",
      "2\n"
     ]
    }
   ],
   "source": [
    "s_num = '100101'\n",
    "\n",
    "if __name__ == '__main__':\n",
    "    s_list = list(s_num)\n",
    "    print(s_list)\n",
    "    z_num = 0\n",
    "    o_num = 0\n",
    "    pre_s = '2'\n",
    "    for s in s_list:\n",
    "        if pre_s != s:\n",
    "            if s == '0':\n",
    "                z_num += 1\n",
    "            else:\n",
    "                o_num += 1\n",
    "        pre_s = s\n",
    "    print(min(z_num, o_num))"
   ]
  },
  {
   "cell_type": "code",
   "execution_count": null,
   "id": "97adf103",
   "metadata": {},
   "outputs": [],
   "source": []
  }
 ],
 "metadata": {
  "kernelspec": {
   "display_name": "Python 3 (ipykernel)",
   "language": "python",
   "name": "python3"
  },
  "language_info": {
   "codemirror_mode": {
    "name": "ipython",
    "version": 3
   },
   "file_extension": ".py",
   "mimetype": "text/x-python",
   "name": "python",
   "nbconvert_exporter": "python",
   "pygments_lexer": "ipython3",
   "version": "3.8.10"
  }
 },
 "nbformat": 4,
 "nbformat_minor": 5
}
