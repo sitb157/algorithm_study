{
 "cells": [
  {
   "cell_type": "code",
   "execution_count": 12,
   "id": "9c12bbf7",
   "metadata": {},
   "outputs": [
    {
     "name": "stdout",
     "output_type": "stream",
     "text": [
      "YES\n"
     ]
    }
   ],
   "source": [
    "# 입력 데이터 변환\n",
    "N = 5  # 도시의 수\n",
    "M = 4  # 여행 계획에 포함된 도시의 수\n",
    "\n",
    "# 인접 행렬 (그래프)\n",
    "graph = [\n",
    "    [0, 1, 0, 1, 1],\n",
    "    [1, 0, 1, 1, 0],\n",
    "    [0, 1, 0, 0, 0],\n",
    "    [1, 1, 0, 0, 0],\n",
    "    [1, 0, 0, 0, 0]\n",
    "]\n",
    "\n",
    "# 여행 계획 (방문할 도시 리스트)\n",
    "travel_plan = [2, 3, 4, 3]\n",
    "edges = [[] for _ in range(N+1)]\n",
    "\n",
    "def find_parents(parents, c):\n",
    "    if parents[c] != c:\n",
    "        parents[c] = find_parents(parents, parents[c])\n",
    "    return parents[c]\n",
    "\n",
    "if __name__ == '__main__':\n",
    "    parents = [i for i in range(N+1)]\n",
    "    \n",
    "    for i in range(N):\n",
    "        for j in range(N):\n",
    "            g = graph[i][j]\n",
    "            if g == 1:\n",
    "                edges[i+1].append(j+1)\n",
    "                \n",
    "    for i in range(1, N+1):\n",
    "        for j in range(len(edges[i])):\n",
    "            e = edges[i][j]\n",
    "            a, b = i, e\n",
    "            a = find_parents(parents, a)\n",
    "            b = find_parents(parents, b)\n",
    "            if a < b:\n",
    "                parents[b] = a\n",
    "            else:\n",
    "                parents[a] = b\n",
    "    continue_check = True\n",
    "    for tp_idx in range(len(travel_plan)-1):\n",
    "        a = travel_plan[tp_idx]\n",
    "        b = travel_plan[tp_idx+1]\n",
    "        a = find_parents(parents, a)\n",
    "        b = find_parents(parents, b)\n",
    "        if a != b:\n",
    "            print(\"NO\")\n",
    "            continue_check = False\n",
    "            break\n",
    "    if continue_check:\n",
    "        print(\"YES\")"
   ]
  },
  {
   "cell_type": "code",
   "execution_count": null,
   "id": "730db91b",
   "metadata": {},
   "outputs": [],
   "source": [
    "i"
   ]
  }
 ],
 "metadata": {
  "kernelspec": {
   "display_name": "Python 3 (ipykernel)",
   "language": "python",
   "name": "python3"
  },
  "language_info": {
   "codemirror_mode": {
    "name": "ipython",
    "version": 3
   },
   "file_extension": ".py",
   "mimetype": "text/x-python",
   "name": "python",
   "nbconvert_exporter": "python",
   "pygments_lexer": "ipython3",
   "version": "3.8.10"
  }
 },
 "nbformat": 4,
 "nbformat_minor": 5
}
