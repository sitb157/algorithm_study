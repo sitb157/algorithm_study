{
 "cells": [
  {
   "cell_type": "code",
   "execution_count": 15,
   "id": "a927d2d1",
   "metadata": {},
   "outputs": [
    {
     "name": "stdout",
     "output_type": "stream",
     "text": [
      "0 3\n",
      "2 2\n",
      "0 5\n",
      "4 4\n",
      "5\n"
     ]
    }
   ],
   "source": [
    "n = 5\n",
    "p = 5\n",
    "plane_list = [1,3,2,5,4]\n",
    "parents = [i for i in range(n+1)]\n",
    "def find_parents(parents, c):\n",
    "    if parents[c] != c:\n",
    "        parents[c] = find_parents(parents, parents[c])\n",
    "    return parents[c]\n",
    "if __name__ == '__main__':\n",
    "    parents[plane_list[0]] -= 1\n",
    "    total = 1\n",
    "    for p_idx in range(1, p):\n",
    "        p_p = plane_list[p_idx-1]\n",
    "        c_p = plane_list[p_idx]\n",
    "        p_p = find_parents(parents, p_p)\n",
    "        c_p = find_parents(parents, c_p)\n",
    "        print(p_p, c_p)\n",
    "        if p_p == c_p:\n",
    "            if c_p == 0:\n",
    "                break\n",
    "        parents[c_p] -= 1\n",
    "        total += 1\n",
    "    print(total)\n",
    "            "
   ]
  },
  {
   "cell_type": "code",
   "execution_count": null,
   "id": "ac70c73e",
   "metadata": {},
   "outputs": [],
   "source": []
  },
  {
   "cell_type": "code",
   "execution_count": null,
   "id": "ef904a7e",
   "metadata": {},
   "outputs": [],
   "source": []
  }
 ],
 "metadata": {
  "kernelspec": {
   "display_name": "Python 3 (ipykernel)",
   "language": "python",
   "name": "python3"
  },
  "language_info": {
   "codemirror_mode": {
    "name": "ipython",
    "version": 3
   },
   "file_extension": ".py",
   "mimetype": "text/x-python",
   "name": "python",
   "nbconvert_exporter": "python",
   "pygments_lexer": "ipython3",
   "version": "3.8.10"
  }
 },
 "nbformat": 4,
 "nbformat_minor": 5
}
