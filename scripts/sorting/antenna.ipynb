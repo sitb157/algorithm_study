{
 "cells": [
  {
   "cell_type": "code",
   "execution_count": 49,
   "id": "61c12b03",
   "metadata": {},
   "outputs": [
    {
     "name": "stdout",
     "output_type": "stream",
     "text": [
      "7 0\n",
      "7 3\n",
      "5\n",
      "5 3\n",
      "4\n",
      "13\n",
      "19\n",
      "19\n",
      "19\n",
      "19\n",
      "13\n",
      "13\n",
      "13\n",
      "13\n",
      "15\n",
      "15\n",
      "15\n",
      "23\n",
      "23\n",
      "23\n"
     ]
    }
   ],
   "source": [
    "n_list = [1,1,1,1,2,2,2,2,3,3,4,4,4,3]\n",
    "n = len(n_list)\n",
    "def sum_dist(n_dict, num):\n",
    "    total = 0\n",
    "    for nd in n_dict:\n",
    "        total += (n_dict[nd] * abs(nd - num))\n",
    "    return total\n",
    "\n",
    "def find_min(n_list, n_dict, start, end, min_value):\n",
    "    while (end - start) > 1:\n",
    "        print(end, start)\n",
    "        mid = (end + start) // 2\n",
    "        curr_val = sum_dist(n_dict, n_list[mid])\n",
    "        if min_value < curr_val:\n",
    "            end = end\n",
    "            start = mid\n",
    "        else:\n",
    "            print(mid)\n",
    "            end = mid\n",
    "            start = start\n",
    "            min_value = curr_val\n",
    "    return min_value\n",
    "\n",
    "if __name__ == '__main__':\n",
    "    n_dict = dict()\n",
    "    for num in n_list:\n",
    "        if num in n_dict:\n",
    "            n_dict[num] += 1\n",
    "        else:\n",
    "            n_dict[num] = 1  \n",
    "    n_list.sort()\n",
    "    start = 0\n",
    "    end = len(n_list)\n",
    "    mid = (end + start) // 2\n",
    "    print(find_min(n_list, n_dict, start, mid, sum_dist(n_dict, n_list[mid])))\n",
    "    for i in range(n):\n",
    "        print(sum_dist(n_dict, n_list[i]))"
   ]
  },
  {
   "cell_type": "code",
   "execution_count": null,
   "id": "a4b6dd05",
   "metadata": {},
   "outputs": [],
   "source": []
  },
  {
   "cell_type": "code",
   "execution_count": null,
   "id": "1b7b6218",
   "metadata": {},
   "outputs": [],
   "source": []
  }
 ],
 "metadata": {
  "kernelspec": {
   "display_name": "Python 3 (ipykernel)",
   "language": "python",
   "name": "python3"
  },
  "language_info": {
   "codemirror_mode": {
    "name": "ipython",
    "version": 3
   },
   "file_extension": ".py",
   "mimetype": "text/x-python",
   "name": "python",
   "nbconvert_exporter": "python",
   "pygments_lexer": "ipython3",
   "version": "3.8.10"
  }
 },
 "nbformat": 4,
 "nbformat_minor": 5
}
