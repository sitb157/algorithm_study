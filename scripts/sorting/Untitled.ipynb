{
 "cells": [
  {
   "cell_type": "code",
   "execution_count": 11,
   "id": "a670a1d6",
   "metadata": {},
   "outputs": [
    {
     "name": "stdout",
     "output_type": "stream",
     "text": [
      "10\n",
      "8\n"
     ]
    }
   ],
   "source": [
    "s = 'abcabcdede'\n",
    "if __name__ == '__main__':\n",
    "    l_s = len(s)\n",
    "    print(l_s)\n",
    "    mid_l_s = l_s // 2\n",
    "    min_l_s = l_s\n",
    "    for i in range(1, mid_l_s+1):\n",
    "        p_s = s[:i]\n",
    "        d_num = 1\n",
    "        t_s = ''\n",
    "        for j in range(i, l_s, i):\n",
    "            c_s = s[j:j+i]\n",
    "            if p_s == c_s:\n",
    "                d_num += 1\n",
    "            else:\n",
    "                if d_num > 1:\n",
    "                    t_s += f\"{d_num}{p_s}\" \n",
    "                else:\n",
    "                    t_s += f\"{p_s}\"\n",
    "                d_num = 1\n",
    "            p_s = c_s\n",
    "        if d_num > 1:\n",
    "            t_s += f\"{d_num}{p_s}\" \n",
    "        else:\n",
    "            t_s += f\"{p_s}\"\n",
    "        if min_l_s > len(t_s):\n",
    "            min_l_s = len(t_s)\n",
    "    print(min_l_s)\n",
    "                    \n",
    "        "
   ]
  },
  {
   "cell_type": "code",
   "execution_count": null,
   "id": "da214dca",
   "metadata": {},
   "outputs": [],
   "source": []
  },
  {
   "cell_type": "code",
   "execution_count": null,
   "id": "cae5a20f",
   "metadata": {},
   "outputs": [],
   "source": []
  }
 ],
 "metadata": {
  "kernelspec": {
   "display_name": "Python 3 (ipykernel)",
   "language": "python",
   "name": "python3"
  },
  "language_info": {
   "codemirror_mode": {
    "name": "ipython",
    "version": 3
   },
   "file_extension": ".py",
   "mimetype": "text/x-python",
   "name": "python",
   "nbconvert_exporter": "python",
   "pygments_lexer": "ipython3",
   "version": "3.8.10"
  }
 },
 "nbformat": 4,
 "nbformat_minor": 5
}
