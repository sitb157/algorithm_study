{
 "cells": [
  {
   "cell_type": "code",
   "execution_count": 3,
   "id": "4c0967ec",
   "metadata": {},
   "outputs": [
    {
     "name": "stdout",
     "output_type": "stream",
     "text": [
      "[0.125, 1]\n",
      "[0.42857142857142855, 2]\n",
      "[0.5, 3]\n",
      "[0.5, 4]\n",
      "[1.0, 6]\n"
     ]
    }
   ],
   "source": [
    "n = 5\n",
    "n_list = [2,1,2,6,2,4,3,3]\n",
    "if __name__ == '__main__':\n",
    "    n_list.sort()\n",
    "    n_l = len(n_list)\n",
    "    p_s = 0\n",
    "    c_s_l = 0\n",
    "    import heapq\n",
    "    heap = []\n",
    "    for stage in n_list:\n",
    "        c_s = stage\n",
    "        if p_s != c_s:\n",
    "            if p_s != 0:\n",
    "                f_s =  c_s_l / n_l\n",
    "                heapq.heappush(heap, [f_s, p_s])\n",
    "                n_l -= c_s_l\n",
    "                c_s_l = 0\n",
    "        c_s_l += 1\n",
    "        p_s = c_s\n",
    "    f_s = c_s_l / n_l\n",
    "    heapq.heappush(heap, [f_s, p_s])\n",
    "    for h in heap:\n",
    "        print(h)"
   ]
  },
  {
   "cell_type": "code",
   "execution_count": null,
   "id": "a5deeaad",
   "metadata": {},
   "outputs": [],
   "source": []
  }
 ],
 "metadata": {
  "kernelspec": {
   "display_name": "Python 3 (ipykernel)",
   "language": "python",
   "name": "python3"
  },
  "language_info": {
   "codemirror_mode": {
    "name": "ipython",
    "version": 3
   },
   "file_extension": ".py",
   "mimetype": "text/x-python",
   "name": "python",
   "nbconvert_exporter": "python",
   "pygments_lexer": "ipython3",
   "version": "3.8.10"
  }
 },
 "nbformat": 4,
 "nbformat_minor": 5
}
