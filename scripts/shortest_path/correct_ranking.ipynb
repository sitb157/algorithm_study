{
 "cells": [
  {
   "cell_type": "code",
   "execution_count": 35,
   "id": "deac3dca",
   "metadata": {},
   "outputs": [
    {
     "name": "stdout",
     "output_type": "stream",
     "text": [
      "[0, 2, 101, 2, 1, 3]\n",
      "[101, 0, 101, 101, 101, 101]\n",
      "[101, 2, 0, 1, 101, 2]\n",
      "[101, 1, 101, 0, 101, 1]\n",
      "[101, 1, 101, 1, 0, 2]\n",
      "[101, 101, 101, 101, 101, 0]\n",
      "4\n"
     ]
    }
   ],
   "source": [
    "n, m = 6, 6\n",
    "edges = [\n",
    "    [1, 5],\n",
    "    [3, 4],\n",
    "    [4, 2],\n",
    "    [4, 6],\n",
    "    [5, 2],\n",
    "    [5, 4],\n",
    "]\n",
    "if __name__ == '__main__':\n",
    "    graphs = [[101 for _ in range(n+1)] for _ in range(n+1)] \n",
    "    for e in edges:\n",
    "        a, b = e\n",
    "        graphs[a][b] = 1\n",
    "        #graphs[b][a] = 1\n",
    "    for a in range(n+1):\n",
    "        for b in range(n+1):\n",
    "            if a == b:\n",
    "                graphs[a][b] = 0\n",
    "    for k in range(1, n+1):\n",
    "        for a in range(1, n+1):\n",
    "            for b in range(1, n+1):\n",
    "                graphs[a][b] = min(graphs[a][k]+graphs[k][b], graphs[a][b])\n",
    "    for g in graphs[1:]:\n",
    "        print(g[1:])\n",
    "    for s in range(1, n+1):\n",
    "        total_num = 0\n",
    "        for g in graphs[s]:\n",
    "            if g != 101 and g > 0:\n",
    "                total_num += 1\n",
    "        for g in graphs:\n",
    "            if g[s] != 101 and g[s] > 0:\n",
    "                total_num += 1\n",
    "        if total_num == (n-1):\n",
    "            print(s)"
   ]
  },
  {
   "cell_type": "code",
   "execution_count": null,
   "id": "e58c27d8",
   "metadata": {},
   "outputs": [],
   "source": []
  },
  {
   "cell_type": "code",
   "execution_count": null,
   "id": "79c299e8",
   "metadata": {},
   "outputs": [],
   "source": []
  }
 ],
 "metadata": {
  "kernelspec": {
   "display_name": "Python 3 (ipykernel)",
   "language": "python",
   "name": "python3"
  },
  "language_info": {
   "codemirror_mode": {
    "name": "ipython",
    "version": 3
   },
   "file_extension": ".py",
   "mimetype": "text/x-python",
   "name": "python",
   "nbconvert_exporter": "python",
   "pygments_lexer": "ipython3",
   "version": "3.8.10"
  }
 },
 "nbformat": 4,
 "nbformat_minor": 5
}
