{
 "cells": [
  {
   "cell_type": "code",
   "execution_count": 44,
   "id": "900490d6",
   "metadata": {},
   "outputs": [
    {
     "name": "stdout",
     "output_type": "stream",
     "text": [
      "[140, 140, 140, 90, 70, 70, 30, 0]\n"
     ]
    }
   ],
   "source": [
    "n = 7\n",
    "data = [\n",
    "    [3, 10],  # 1일차: 3일 소요, 10 비용\n",
    "    [5, 20],  # 2일차: 5일 소요, 20 비용\n",
    "    [1, 50],  # 3일차: 1일 소요, 50 비용\n",
    "    [2, 20],  # 4일차: 1일 소요, 20 비용\n",
    "    [2, 15],  # 5일차: 2일 소요, 15 비용\n",
    "    [1, 40],  # 6일차: 1일 소요, 40 비용\n",
    "    [1, 30]   # 7일차: 1일 소요, 30 비용\n",
    "]\n",
    "if __name__ == '__main__':\n",
    "    dp_list = [0 for _ in range(n+1)]\n",
    "    max_value = 0\n",
    "    for i in range(n-1, -1, -1):\n",
    "        time = i + data[i][0]\n",
    "        if time <= n:\n",
    "            dp_list[i] = max((dp_list[time] + data[i][1]), max_value)\n",
    "            max_value = dp_list[i]\n",
    "        else:\n",
    "            dp_list[i] = max_value\n",
    "    print(dp_list)"
   ]
  },
  {
   "cell_type": "code",
   "execution_count": null,
   "id": "1a0328b6",
   "metadata": {},
   "outputs": [],
   "source": []
  },
  {
   "cell_type": "code",
   "execution_count": null,
   "id": "428717f8",
   "metadata": {},
   "outputs": [],
   "source": []
  }
 ],
 "metadata": {
  "kernelspec": {
   "display_name": "Python 3 (ipykernel)",
   "language": "python",
   "name": "python3"
  },
  "language_info": {
   "codemirror_mode": {
    "name": "ipython",
    "version": 3
   },
   "file_extension": ".py",
   "mimetype": "text/x-python",
   "name": "python",
   "nbconvert_exporter": "python",
   "pygments_lexer": "ipython3",
   "version": "3.8.10"
  }
 },
 "nbformat": 4,
 "nbformat_minor": 5
}
