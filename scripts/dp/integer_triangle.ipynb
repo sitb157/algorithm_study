{
 "cells": [
  {
   "cell_type": "code",
   "execution_count": 9,
   "id": "cf9b43e9",
   "metadata": {
    "scrolled": true
   },
   "outputs": [
    {
     "name": "stdout",
     "output_type": "stream",
     "text": [
      "[24, 0, 0, 0, 0]\n",
      "[17, 22, 0, 0, 0]\n",
      "[14, 13, 12, 0, 0]\n",
      "[6, 12, 9, 6, 0]\n",
      "[4, 5, 2, 6, 5]\n"
     ]
    }
   ],
   "source": [
    "triangle = [\n",
    "    [7],\n",
    "    [3, 8],\n",
    "    [8, 1, 0],\n",
    "    [2, 7, 4, 4],\n",
    "    [4, 5, 2, 6, 5]\n",
    "]\n",
    "n = len(triangle)\n",
    "max_tree = [[0 for _ in range(n)] for _ in range(n)]\n",
    "\n",
    "if __name__ == '__main__':\n",
    "\n",
    "    for i in range(n-1, -1, -1):\n",
    "        for j in range(len(triangle[i])):\n",
    "            value = triangle[i][j]\n",
    "            if i == n-1:\n",
    "                max_tree[i][j] = value\n",
    "            else:\n",
    "                if ((j-1) < 0):\n",
    "                    max_tree[i]max_tree[i][j] = triangle[i][j] + max(max_tree[i+1][j], max_tree[i+1][j-1])\n",
    "    \n",
    "    for mt in max_tree:\n",
    "        print(mt)\n",
    "    "
   ]
  },
  {
   "cell_type": "code",
   "execution_count": null,
   "id": "b3432ca8",
   "metadata": {},
   "outputs": [],
   "source": []
  }
 ],
 "metadata": {
  "kernelspec": {
   "display_name": "Python 3 (ipykernel)",
   "language": "python",
   "name": "python3"
  },
  "language_info": {
   "codemirror_mode": {
    "name": "ipython",
    "version": 3
   },
   "file_extension": ".py",
   "mimetype": "text/x-python",
   "name": "python",
   "nbconvert_exporter": "python",
   "pygments_lexer": "ipython3",
   "version": "3.8.10"
  }
 },
 "nbformat": 4,
 "nbformat_minor": 5
}
