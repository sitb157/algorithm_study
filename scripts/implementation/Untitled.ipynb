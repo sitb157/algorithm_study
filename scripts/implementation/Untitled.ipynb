{
 "cells": [
  {
   "cell_type": "code",
   "execution_count": 11,
   "id": "f7500c37",
   "metadata": {},
   "outputs": [
    {
     "name": "stdout",
     "output_type": "stream",
     "text": [
      "['K', 'K', 'A', 'C', 'B']13\n"
     ]
    }
   ],
   "source": [
    "input1 = \"K1KA5CB7\"\n",
    "input2 = \"AJKDLSI412K4JSJ9D\"\n",
    "if __name__ == '__main__':\n",
    "    total_num = 0\n",
    "    str_list = []\n",
    "    for ip in input2:\n",
    "        try:\n",
    "            int_num = int(ip)\n",
    "            total_num += int_num\n",
    "        except:\n",
    "            str_list.append(ip)\n",
    "    print(f'{sstr_list)}{total_num}')"
   ]
  },
  {
   "cell_type": "code",
   "execution_count": null,
   "id": "16d6b73f",
   "metadata": {},
   "outputs": [],
   "source": []
  }
 ],
 "metadata": {
  "kernelspec": {
   "display_name": "Python 3 (ipykernel)",
   "language": "python",
   "name": "python3"
  },
  "language_info": {
   "codemirror_mode": {
    "name": "ipython",
    "version": 3
   },
   "file_extension": ".py",
   "mimetype": "text/x-python",
   "name": "python",
   "nbconvert_exporter": "python",
   "pygments_lexer": "ipython3",
   "version": "3.8.10"
  }
 },
 "nbformat": 4,
 "nbformat_minor": 5
}
